{
 "cells": [
  {
   "cell_type": "markdown",
   "metadata": {},
   "source": [
    "# Plots, plots, plots\n",
    "\n",
    "We can do better than including TensorBoard screenshots, right?"
   ]
  },
  {
   "cell_type": "code",
   "execution_count": 37,
   "metadata": {
    "collapsed": true
   },
   "outputs": [],
   "source": [
    "import os\n",
    "\n",
    "import matplotlib\n",
    "import matplotlib.pyplot as plt\n",
    "import numpy as np\n",
    "\n",
    "%matplotlib inline"
   ]
  },
  {
   "cell_type": "code",
   "execution_count": 6,
   "metadata": {
    "collapsed": true
   },
   "outputs": [],
   "source": [
    "import json"
   ]
  },
  {
   "cell_type": "code",
   "execution_count": 7,
   "metadata": {
    "collapsed": true
   },
   "outputs": [],
   "source": [
    "# Andrei's plot dumps (CSV dumps were not working in TB for some reason)\n",
    "\n",
    "plot_root = os.path.join('..', 'data', 'plots')\n",
    "\n",
    "CNN = os.path.join(plot_root, 'run-euler-cnn-w2v-300d-1466952510-euler-cnn-pp-hf-20-lf-4-htfb-10-mscl-5-summaries-dev-tag-accuracy.json')\n",
    "LSTM_SHALLOW = os.path.join(plot_root, 'run-euler-lstm-128-35-words-w2v-300-pretrained-1466514832-summaries-dev-tag-accuracy.json')\n",
    "LSTM_DEEP = os.path.join(plot_root, 'run-euler-lstm-w2v-300d-1467126384-euler-summaries-dev-tag-accuracy.json')"
   ]
  },
  {
   "cell_type": "code",
   "execution_count": 8,
   "metadata": {
    "collapsed": true
   },
   "outputs": [],
   "source": [
    "def load_json_curve(fname):\n",
    "    with open(fname, 'r') as f:\n",
    "        return json.loads(f.read())"
   ]
  },
  {
   "cell_type": "code",
   "execution_count": 15,
   "metadata": {
    "collapsed": false
   },
   "outputs": [],
   "source": [
    "cnn_curve = load_json_curve(CNN)\n",
    "lstm_shallow_curve = load_json_curve(LSTM_SHALLOW)\n",
    "lstm_deep_curve = load_json_curve(LSTM_DEEP)"
   ]
  },
  {
   "cell_type": "code",
   "execution_count": 27,
   "metadata": {
    "collapsed": false
   },
   "outputs": [
    {
     "name": "stdout",
     "output_type": "stream",
     "text": [
      "We have 8789.0625 steps in one epoch.\n"
     ]
    }
   ],
   "source": [
    "BATCH_SIZE = 256\n",
    "EPOCH_STEPS = 2500000 * 0.9 / BATCH_SIZE\n",
    "\n",
    "print(\"We have {0} steps in one epoch.\".format(EPOCH_STEPS))"
   ]
  },
  {
   "cell_type": "code",
   "execution_count": 34,
   "metadata": {
    "collapsed": true
   },
   "outputs": [],
   "source": [
    "curves = {\n",
    "    'cnn': ['CNN', cnn_curve],\n",
    "    'lstm_s': ['1 layer LSTM @ 128 units', lstm_shallow_curve],\n",
    "    'lstm_d': ['2 layer LSTM @ 300+256 units', lstm_deep_curve]\n",
    "}"
   ]
  },
  {
   "cell_type": "code",
   "execution_count": 59,
   "metadata": {
    "collapsed": false
   },
   "outputs": [],
   "source": [
    "font = {'family' : '',\n",
    "        'weight' : 'regular',\n",
    "        'size'   : 12}\n",
    "\n",
    "matplotlib.rc('font', **font)"
   ]
  },
  {
   "cell_type": "code",
   "execution_count": 60,
   "metadata": {
    "collapsed": false
   },
   "outputs": [
    {
     "data": {
      "image/png": "[encoded data removed]",
      "text/plain": [
       "<matplotlib.figure.Figure at 0x10f93b630>"
      ]
     },
     "metadata": {},
     "output_type": "display_data"
    }
   ],
   "source": [
    "for curve in curves.values():\n",
    "    cname, cpoints = curve\n",
    "    plt.plot([p[1] / EPOCH_STEPS for p in cpoints], [p[2] for p in cpoints],\n",
    "            label=cname)\n",
    "    \n",
    "\n",
    "plt.xlabel(\"Training epochs\", **font)\n",
    "plt.ylabel(\"Development Accuracy\", **font)\n",
    "plt.ylim([0.80, 0.90])\n",
    "plt.legend(loc='lower right')\n",
    "plt.savefig(os.path.join(plot_root, 'cnn_vs_lstm.eps'))"
   ]
  },
  {
   "cell_type": "code",
   "execution_count": null,
   "metadata": {
    "collapsed": true
   },
   "outputs": [],
   "source": []
  },
  {
   "cell_type": "code",
   "execution_count": null,
   "metadata": {
    "collapsed": true
   },
   "outputs": [],
   "source": []
  }
 ],
 "metadata": {
  "kernelspec": {
   "display_name": "Python 3",
   "language": "python",
   "name": "python3"
  },
  "language_info": {
   "codemirror_mode": {
    "name": "ipython",
    "version": 3
   },
   "file_extension": ".py",
   "mimetype": "text/x-python",
   "name": "python",
   "nbconvert_exporter": "python",
   "pygments_lexer": "ipython3",
   "version": "3.5.1"
  }
 },
 "nbformat": 4,
 "nbformat_minor": 0
}
